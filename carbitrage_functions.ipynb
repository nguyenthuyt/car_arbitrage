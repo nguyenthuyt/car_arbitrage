{
 "cells": [
  {
   "cell_type": "code",
   "execution_count": 1,
   "id": "06ed31fd-3dc3-40f0-97e5-9ebfc0836002",
   "metadata": {},
   "outputs": [],
   "source": [
    "# filter function; apply_filters is a list. ex: apply_filters = ['a', 'b','c']\n",
    "\n",
    "def filter_data(database, column_name, apply_filters):\n",
    "    bool_series = database[column_name].isin(apply_filters)\n",
    "    filtered_database = database[bool_series]\n",
    "#    filtered_database = filtered_database.reset_index().drop('index', axis = 1)\n",
    "    return filtered_database\n",
    "\n",
    "# dropping NaN values from columns\n",
    "\n",
    "def nan_dropper(database, column_name):\n",
    "    filtered_database = database.dropna(subset=[column_name])\n",
    "#    filtered_database = filtered_database.reset_index().drop('index', axis = 1)\n",
    "    return filtered_database\n",
    "\n",
    "# String filter. container argument input is a string  ex:'string'\n",
    "\n",
    "def str_filter(database, column_name, container):\n",
    "    filtered_database = database[database[column_name].str.contains(container)]\n",
    "#    filtered_database = filtered_database.reset_index().drop('index', axis = 1)\n",
    "    return filtered_database\n",
    "\n",
    "# Function value_counter; column_name is a str.\n",
    "\n",
    "def value_counter(dataframe, column_name):\n",
    "    return dataframe.loc[:,column_name].value_counts()\n"
   ]
  },
  {
   "cell_type": "code",
   "execution_count": null,
   "id": "8dbfbdb4-0f8a-4fb3-ac8b-ebc3ffd7411e",
   "metadata": {},
   "outputs": [],
   "source": []
  }
 ],
 "metadata": {
  "kernelspec": {
   "display_name": "Python (dev)",
   "language": "python",
   "name": "dev"
  },
  "language_info": {
   "codemirror_mode": {
    "name": "ipython",
    "version": 3
   },
   "file_extension": ".py",
   "mimetype": "text/x-python",
   "name": "python",
   "nbconvert_exporter": "python",
   "pygments_lexer": "ipython3",
   "version": "3.7.11"
  }
 },
 "nbformat": 4,
 "nbformat_minor": 5
}
